{
 "cells": [
  {
   "cell_type": "markdown",
   "metadata": {},
   "source": [
    "# Applications"
   ]
  },
  {
   "cell_type": "markdown",
   "metadata": {},
   "source": [
    "## Computer Vision"
   ]
  },
  {
   "cell_type": "markdown",
   "metadata": {},
   "source": [
    "This section will show an application of the recursive matching algorithm \n",
    "when it comes to matching ground truth and prediction bounding boxes. \n",
    "\n",
    "Consider the following figure which shows a set of ground truth (blue) bounding boxes\n",
    "and a set of prediction (red) bounding boxes. \n",
    "\n",
    "![Computer Vision Bounding Boxes](../docs/images/cv_demo_bbx_graph.png)\n",
    "\n",
    "Visually, it is clear which ground truth bounding box closely correlates \n",
    "to the prediction bounding box. \n",
    "\n",
    "Graphically, the coordinates of the bounding boxes are as follows.\n",
    "\n",
    "## Ground Truths\n",
    "\n",
    "* G0 [10, 110, 60, 140]\n",
    "* G1 [20, 60, 50, 90]\n",
    "* G2 [60, 40, 100, 100]\n",
    "* G3 [100, 10, 160, 70]\n",
    "* G4 [20, 100, 50, 140]\n",
    "\n",
    "## Predictions\n",
    "\n",
    "* P0 [120, 100, 160, 140]\n",
    "* P1 [30, 80, 70, 130]\n",
    "* P2 [70, 30, 90, 90]\n",
    "* P3 [90, 20, 150, 60]\n",
    "* P4 [20, 100, 50, 140]\n",
    "\n",
    "The ground truth to prediction bounding boxes are matched as follows.\n",
    "\n",
    "* (G0, P1)\n",
    "* (G2, P2)\n",
    "* (G3, P3)\n",
    "* (G4, P4)\n",
    "\n",
    "The IoU (intersection over union) is a metric that best describes\n",
    "how well a bounding box intersects with another which is the metric used to\n",
    "measure the best matches between a set of bounding boxes.\n",
    "\n",
    "In this example, given a set of ground truth and prediction bounding boxes,\n",
    "an IoU 2D matrix is generated which is taken as an input to the recursive matching\n",
    "algorithm to find the best matches for the ground truth and prediction bounding\n",
    "boxes.\n",
    "\n",
    "The recursive matching algorithm will match based on the highest IoU matches which\n",
    "differs from the hungarian algorithm where the assignments are based on \n",
    "the maximum sum overall where the individual matches may not be the maximum\n",
    "within a set of options. "
   ]
  },
  {
   "cell_type": "code",
   "execution_count": 1,
   "metadata": {},
   "outputs": [
    {
     "ename": "",
     "evalue": "",
     "output_type": "error",
     "traceback": [
      "\u001b[1;31mRunning cells with 'env (Python 3.8.0)' requires the ipykernel package.\n",
      "\u001b[1;31mRun the following command to install 'ipykernel' into the Python environment. \n",
      "\u001b[1;31mCommand: 'c:/Users/johns/Documents/ProjectRepositories/Matching-Algorithm/env/Scripts/python.exe -m pip install ipykernel -U --force-reinstall'"
     ]
    }
   ],
   "source": [
    "\"\"\"\n",
    "Iou Methods\n",
    "\"\"\"\n",
    "\n",
    "def iou_tch(box1, box2, eps: float=1e-7):\n",
    "    \"\"\"\n",
    "    PyTorch Batch IoU. \n",
    "    Source: https://github.com/ultralytics/yolov5\n",
    "    Code: https://github.com/ultralytics/yolov5/blob/master/utils/metrics.py#L275\n",
    "\n",
    "    Parameters\n",
    "    ----------\n",
    "    box1 : torch.Tensor\n",
    "        The first set of bounding boxes with the shape (n, 4) \n",
    "        in the format [xmin, ymin, xmax, ymax].\n",
    "    box2 : torch.Tensor\n",
    "        The second bounding boxes with the shape (n, 4)\n",
    "        in the format [xmin, ymin, xmax, ymax].\n",
    "    eps : float\n",
    "        This is used to prevent division by 0.\n",
    "\n",
    "    Returns\n",
    "    -------\n",
    "    torch.Tensor\n",
    "        An IoU 2D matrix which calculates\n",
    "        the IoU between box1 (row) and\n",
    "        box2 (column).\n",
    "    \"\"\"\n",
    "    import torch\n",
    "\n",
    "    (a1, a2), (b1, b2) = box1.unsqueeze(1).chunk(2, 2), box2.unsqueeze(0).chunk(2, 2)\n",
    "    inter = (torch.min(a2, b2) - torch.max(a1, b1)).clamp(0).prod(2)\n",
    "    return inter / ((a2 - a1).prod(2) + (b2 - b1).prod(2) - inter + eps)\n",
    "\n",
    "def iou_npy(box1, box2, eps: float=1e-7): \n",
    "    \"\"\"\n",
    "    NumPy implementation of the batch IoU above. \n",
    "    NumPy is a lighter library for demonstration purposes. \n",
    "\n",
    "    Parameters\n",
    "    ----------\n",
    "    box1 : np.ndarray\n",
    "        The first set of bounding boxes with the shape (n, 4) \n",
    "        in the format [xmin, ymin, xmax, ymax].\n",
    "    box2 : np.ndarray\n",
    "        The second bounding boxes with the shape (n, 4)\n",
    "        in the format [xmin, ymin, xmax, ymax].\n",
    "    eps : float\n",
    "        This is used to prevent division by 0.\n",
    "\n",
    "    Returns\n",
    "    -------\n",
    "    np.ndarray\n",
    "        An IoU 2D matrix which calculates\n",
    "        the IoU between box1 (row) and\n",
    "        box2 (column).\n",
    "    \"\"\"\n",
    "    import numpy as np\n",
    "\n",
    "    a1, a2 = np.expand_dims(box1[:, [0,1]], 1), np.expand_dims(box1[:, [2,3]], 1)\n",
    "    b1, b2 = np.expand_dims(box2[:, [0,1]], 0), np.expand_dims(box2[:, [2,3]], 0)\n",
    "\n",
    "    inter = np.minimum(a2,b2) - np.maximum(a1,b1)\n",
    "    inter = np.prod(np.clip(inter, a_min=0., a_max=np.max(inter)), axis=2)\n",
    "    \n",
    "    return inter / ((a2 - a1).prod(2) + (b2 - b1).prod(2) - inter + eps)"
   ]
  },
  {
   "cell_type": "code",
   "execution_count": 2,
   "metadata": {},
   "outputs": [
    {
     "name": "stdout",
     "output_type": "stream",
     "text": [
      "IoU matrix: [[0.         0.         0.         0.         0.        ]\n",
      " [0.20689655 0.07407407 0.04761905 0.         0.23076923]\n",
      " [0.         0.         0.38461538 0.         0.        ]\n",
      " [0.         0.         0.04347826 0.5        0.        ]\n",
      " [0.5        0.         0.         0.         1.        ]]\n"
     ]
    }
   ],
   "source": [
    "import numpy as np\n",
    "\n",
    "ground_truth = np.array([[10,110,60,140], \n",
    "                         [20, 60, 50, 90], \n",
    "                         [60,40,100,100], \n",
    "                         [100,10,160,70], \n",
    "                         [20, 100, 50, 140]])\n",
    "predictions = np.array([[120,100,160,140], \n",
    "                        [30,80,70,130], \n",
    "                        [70,30,90,90], \n",
    "                        [90,20,150,60], \n",
    "                        [20, 100, 50, 140]])\n",
    "\n",
    "matrix = iou_npy(predictions, ground_truth)\n",
    "print(f\"IoU matrix: {matrix}\")"
   ]
  },
  {
   "cell_type": "markdown",
   "metadata": {},
   "source": [
    "## The IoU Matrix\n",
    "\n",
    "The IoU matrix above is represented as the IoU values between each ground\n",
    "truth against each prediction. The columns in the matrix are the ground truths\n",
    "and the rows are the predictions.\n",
    "Ex. ground truth at index 0 and prediction at index 1 has an IoU of 0.20689655"
   ]
  },
  {
   "cell_type": "code",
   "execution_count": 4,
   "metadata": {},
   "outputs": [
    {
     "name": "stdout",
     "output_type": "stream",
     "text": [
      "Matches [ 1 -1  2  3  4]\n"
     ]
    }
   ],
   "source": [
    "from matching import recursive_match as match\n",
    "matches = match(matrix, axis=1)\n",
    "print(f\"Matches {matches}\")"
   ]
  },
  {
   "cell_type": "markdown",
   "metadata": {},
   "source": [
    "## The Matches Array\n",
    "\n",
    "### Axis = 1\n",
    "\n",
    "In this example, the matches array returned is array([ 1, -1,  2,  3,  4]).\n",
    "When specifying the axis to 1, we are specifying to iterate over each ground\n",
    "truth (columns => axis = 1) and then find the best match of each ground truth\n",
    "to the predictions.\n",
    "\n",
    "The matches tells us that ground truth at index 0 is best matched to prediction\n",
    "at index 1. Similarly, ground truth at index 2 is best matched to prediction\n",
    "at index 2. The value of -1 indicates the ground truth did not match to\n",
    "any prediction because the IoU was 0 for all predictions. \n",
    "The following matches can then be summarized.\n",
    "\n",
    "* GT, Pred\n",
    "* 0, 1\n",
    "* 1, null\n",
    "* 2, 2\n",
    "* 3, 3\n",
    "* 4, 4"
   ]
  },
  {
   "cell_type": "code",
   "execution_count": 5,
   "metadata": {},
   "outputs": [
    {
     "name": "stdout",
     "output_type": "stream",
     "text": [
      "Matches: [-1  0  2  3  4]\n"
     ]
    }
   ],
   "source": [
    "from matching import recursive_match as match\n",
    "matches = match(matrix, axis=0)\n",
    "print(f\"Matches: {matches}\")"
   ]
  },
  {
   "cell_type": "markdown",
   "metadata": {},
   "source": [
    "### Axis = 0\n",
    "\n",
    "Similarly, when setting the axis to 0, we are specifying to iterate over each detection (rows => axis = 0).\n",
    "\n",
    "The matches tells us that detection at index 1 is best matched to ground truth 0. These results reflect\n",
    "the results given when axis is set to 1. However this time, the values returned are the indices\n",
    "of the best matched ground truths. The following matches can then be summarized.\n",
    "\n",
    "* Pred, GT\n",
    "* 0, null\n",
    "* 1, 0\n",
    "* 2, 2\n",
    "* 3, 3\n",
    "* 4, 4"
   ]
  },
  {
   "cell_type": "markdown",
   "metadata": {},
   "source": [
    "# Benchmarks"
   ]
  },
  {
   "cell_type": "code",
   "execution_count": 6,
   "metadata": {},
   "outputs": [
    {
     "name": "stdout",
     "output_type": "stream",
     "text": [
      "143 µs ± 26.5 µs per loop (mean ± std. dev. of 7 runs, 10,000 loops each)\n"
     ]
    }
   ],
   "source": [
    "import timeit\n",
    "from matching import recursive_match as match\n",
    "\n",
    "%timeit match(matrix, axis=1)"
   ]
  },
  {
   "cell_type": "code",
   "execution_count": 7,
   "metadata": {},
   "outputs": [
    {
     "name": "stdout",
     "output_type": "stream",
     "text": [
      "278 µs ± 40.5 µs per loop (mean ± std. dev. of 7 runs, 1,000 loops each)\n"
     ]
    }
   ],
   "source": [
    "import timeit\n",
    "from matching import hungarian_match as match\n",
    "\n",
    "%timeit match(matrix, axis=1)"
   ]
  },
  {
   "cell_type": "code",
   "execution_count": 8,
   "metadata": {},
   "outputs": [
    {
     "name": "stdout",
     "output_type": "stream",
     "text": [
      "1.26 µs ± 20.1 ns per loop (mean ± std. dev. of 7 runs, 1,000,000 loops each)\n"
     ]
    }
   ],
   "source": [
    "import timeit\n",
    "from scipy.optimize import linear_sum_assignment\n",
    "\n",
    "%timeit linear_sum_assignment(matrix)"
   ]
  }
 ],
 "metadata": {
  "kernelspec": {
   "display_name": "env",
   "language": "python",
   "name": "python3"
  },
  "language_info": {
   "codemirror_mode": {
    "name": "ipython",
    "version": 3
   },
   "file_extension": ".py",
   "mimetype": "text/x-python",
   "name": "python",
   "nbconvert_exporter": "python",
   "pygments_lexer": "ipython3",
   "version": "3.8.0"
  }
 },
 "nbformat": 4,
 "nbformat_minor": 2
}
