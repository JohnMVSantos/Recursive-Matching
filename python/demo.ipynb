{
 "cells": [
  {
   "cell_type": "markdown",
   "metadata": {},
   "source": [
    "# Applications"
   ]
  },
  {
   "cell_type": "markdown",
   "metadata": {},
   "source": [
    "## Max Returns"
   ]
  },
  {
   "cell_type": "markdown",
   "metadata": {},
   "source": [
    "This section will show an application of the matching algorithm when it comes\n",
    "to maximizing the results through optimized assignments. \n",
    "\n",
    "The example below describes three machines (columns) and three operators (rows). \n",
    "\n",
    "[TODO: Show 2D matrix]\n",
    "\n",
    "The matrix shows the returns if a particular operator operates a particular\n",
    "machine. The goal is to find the assignment that achieves the highest return.\n",
    "Only one operator is assigned to each machine and only one machine is \n",
    "assigned to each operator. "
   ]
  },
  {
   "cell_type": "code",
   "execution_count": 1,
   "metadata": {},
   "outputs": [
    {
     "name": "stdout",
     "output_type": "stream",
     "text": [
      "Match: [2 1 0]\n"
     ]
    }
   ],
   "source": [
    "from recursive import match\n",
    "import numpy as np\n",
    "\n",
    "matrix = np.array([\n",
    "    [8, 4, 7],\n",
    "    [5, 2, 3],\n",
    "    [9, 4, 8]\n",
    "])\n",
    "\n",
    "matches = match(matrix, axis=1, limit=False)\n",
    "print(f\"Match: {matches}\")"
   ]
  },
  {
   "cell_type": "markdown",
   "metadata": {},
   "source": [
    "[TODO: Explain parameters and results]"
   ]
  },
  {
   "cell_type": "markdown",
   "metadata": {},
   "source": [
    "## Minimum Costs"
   ]
  },
  {
   "cell_type": "code",
   "execution_count": null,
   "metadata": {},
   "outputs": [
    {
     "name": "stdout",
     "output_type": "stream",
     "text": [
      "matrix=array([[9, 9, 9],\n",
      "       [9, 9, 9],\n",
      "       [9, 9, 9]])\n"
     ]
    },
    {
     "ename": "RecursionError",
     "evalue": "maximum recursion depth exceeded while calling a Python object",
     "output_type": "error",
     "traceback": [
      "\u001b[1;31m---------------------------------------------------------------------------\u001b[0m",
      "\u001b[1;31mRecursionError\u001b[0m                            Traceback (most recent call last)",
      "Cell \u001b[1;32mIn[8], line 14\u001b[0m\n\u001b[0;32m     10\u001b[0m matrix \u001b[38;5;241m=\u001b[39m matrix \u001b[38;5;241m-\u001b[39m (matrix \u001b[38;5;241m-\u001b[39m np\u001b[38;5;241m.\u001b[39mmax(matrix))\n\u001b[0;32m     12\u001b[0m \u001b[38;5;28mprint\u001b[39m(\u001b[38;5;124mf\u001b[39m\u001b[38;5;124m\"\u001b[39m\u001b[38;5;132;01m{\u001b[39;00mmatrix\u001b[38;5;132;01m=}\u001b[39;00m\u001b[38;5;124m\"\u001b[39m)\n\u001b[1;32m---> 14\u001b[0m matches \u001b[38;5;241m=\u001b[39m match(matrix, axis\u001b[38;5;241m=\u001b[39m\u001b[38;5;241m1\u001b[39m, limit\u001b[38;5;241m=\u001b[39m\u001b[38;5;28;01mFalse\u001b[39;00m)\n\u001b[0;32m     15\u001b[0m \u001b[38;5;28mprint\u001b[39m(\u001b[38;5;124mf\u001b[39m\u001b[38;5;124m\"\u001b[39m\u001b[38;5;124mMatch: \u001b[39m\u001b[38;5;132;01m{\u001b[39;00mmatches\u001b[38;5;132;01m}\u001b[39;00m\u001b[38;5;124m\"\u001b[39m)\n",
      "File \u001b[1;32mc:\\Users\\johns\\Documents\\ProjectRepositories\\Matching-Algorithm\\python\\recursive.py:91\u001b[0m, in \u001b[0;36mmatch\u001b[1;34m(matrix, axis, limit)\u001b[0m\n\u001b[0;32m     88\u001b[0m         matches[i] \u001b[38;5;241m=\u001b[39m max_index \u001b[38;5;66;03m# Add a new match.\u001b[39;00m\n\u001b[0;32m     90\u001b[0m \u001b[38;5;28;01mfor\u001b[39;00m i \u001b[38;5;129;01min\u001b[39;00m \u001b[38;5;28mrange\u001b[39m(matrix\u001b[38;5;241m.\u001b[39mshape[axis]):\n\u001b[1;32m---> 91\u001b[0m     rematch(\n\u001b[0;32m     92\u001b[0m         i\u001b[38;5;241m=\u001b[39mi, \n\u001b[0;32m     93\u001b[0m         items\u001b[38;5;241m=\u001b[39mmatrix[(i, \u001b[38;5;28mslice\u001b[39m(\u001b[38;5;28;01mNone\u001b[39;00m)) \u001b[38;5;28;01mif\u001b[39;00m axis \u001b[38;5;241m==\u001b[39m \u001b[38;5;241m0\u001b[39m \u001b[38;5;28;01melse\u001b[39;00m (\u001b[38;5;28mslice\u001b[39m(\u001b[38;5;28;01mNone\u001b[39;00m), i)]\n\u001b[0;32m     94\u001b[0m     )\n\u001b[0;32m     96\u001b[0m \u001b[38;5;28;01mreturn\u001b[39;00m matches\n",
      "File \u001b[1;32mc:\\Users\\johns\\Documents\\ProjectRepositories\\Matching-Algorithm\\python\\recursive.py:85\u001b[0m, in \u001b[0;36mmatch.<locals>.rematch\u001b[1;34m(i, items)\u001b[0m\n\u001b[0;32m     83\u001b[0m     items[max_index] \u001b[38;5;241m=\u001b[39m np\u001b[38;5;241m.\u001b[39mmin(items) \u001b[38;5;241m-\u001b[39m \u001b[38;5;241m1\u001b[39m\n\u001b[0;32m     84\u001b[0m     \u001b[38;5;66;03m# If i has not changed to j, rematch current match.\u001b[39;00m\n\u001b[1;32m---> 85\u001b[0m     rematch(i\u001b[38;5;241m=\u001b[39mi, items\u001b[38;5;241m=\u001b[39mitems) \n\u001b[0;32m     87\u001b[0m \u001b[38;5;28;01melse\u001b[39;00m:\n\u001b[0;32m     88\u001b[0m     matches[i] \u001b[38;5;241m=\u001b[39m max_index\n",
      "File \u001b[1;32mc:\\Users\\johns\\Documents\\ProjectRepositories\\Matching-Algorithm\\python\\recursive.py:85\u001b[0m, in \u001b[0;36mmatch.<locals>.rematch\u001b[1;34m(i, items)\u001b[0m\n\u001b[0;32m     83\u001b[0m     items[max_index] \u001b[38;5;241m=\u001b[39m np\u001b[38;5;241m.\u001b[39mmin(items) \u001b[38;5;241m-\u001b[39m \u001b[38;5;241m1\u001b[39m\n\u001b[0;32m     84\u001b[0m     \u001b[38;5;66;03m# If i has not changed to j, rematch current match.\u001b[39;00m\n\u001b[1;32m---> 85\u001b[0m     rematch(i\u001b[38;5;241m=\u001b[39mi, items\u001b[38;5;241m=\u001b[39mitems) \n\u001b[0;32m     87\u001b[0m \u001b[38;5;28;01melse\u001b[39;00m:\n\u001b[0;32m     88\u001b[0m     matches[i] \u001b[38;5;241m=\u001b[39m max_index\n",
      "    \u001b[1;31m[... skipping similar frames: match.<locals>.rematch at line 85 (2965 times)]\u001b[0m\n",
      "File \u001b[1;32mc:\\Users\\johns\\Documents\\ProjectRepositories\\Matching-Algorithm\\python\\recursive.py:85\u001b[0m, in \u001b[0;36mmatch.<locals>.rematch\u001b[1;34m(i, items)\u001b[0m\n\u001b[0;32m     83\u001b[0m     items[max_index] \u001b[38;5;241m=\u001b[39m np\u001b[38;5;241m.\u001b[39mmin(items) \u001b[38;5;241m-\u001b[39m \u001b[38;5;241m1\u001b[39m\n\u001b[0;32m     84\u001b[0m     \u001b[38;5;66;03m# If i has not changed to j, rematch current match.\u001b[39;00m\n\u001b[1;32m---> 85\u001b[0m     rematch(i\u001b[38;5;241m=\u001b[39mi, items\u001b[38;5;241m=\u001b[39mitems) \n\u001b[0;32m     87\u001b[0m \u001b[38;5;28;01melse\u001b[39;00m:\n\u001b[0;32m     88\u001b[0m     matches[i] \u001b[38;5;241m=\u001b[39m max_index\n",
      "File \u001b[1;32mc:\\Users\\johns\\Documents\\ProjectRepositories\\Matching-Algorithm\\python\\recursive.py:60\u001b[0m, in \u001b[0;36mmatch.<locals>.rematch\u001b[1;34m(i, items)\u001b[0m\n\u001b[0;32m     44\u001b[0m \u001b[38;5;250m\u001b[39m\u001b[38;5;124;03m\"\"\"\u001b[39;00m\n\u001b[0;32m     45\u001b[0m \u001b[38;5;124;03mMaintain unique matches by rematching \u001b[39;00m\n\u001b[0;32m     46\u001b[0m \u001b[38;5;124;03ma duplicate match that does not \u001b[39;00m\n\u001b[1;32m   (...)\u001b[0m\n\u001b[0;32m     57\u001b[0m \u001b[38;5;124;03m    items to find the best match.\u001b[39;00m\n\u001b[0;32m     58\u001b[0m \u001b[38;5;124;03m\"\"\"\u001b[39;00m\n\u001b[0;32m     59\u001b[0m \u001b[38;5;66;03m# The row/column index that best matches the column/row.\u001b[39;00m\n\u001b[1;32m---> 60\u001b[0m max_index \u001b[38;5;241m=\u001b[39m np\u001b[38;5;241m.\u001b[39margmax(items) \n\u001b[0;32m     61\u001b[0m \u001b[38;5;28;01mif\u001b[39;00m limit \u001b[38;5;129;01mand\u001b[39;00m items[max_index] \u001b[38;5;241m<\u001b[39m\u001b[38;5;241m=\u001b[39m min_value:\n\u001b[0;32m     62\u001b[0m     \u001b[38;5;28;01mreturn\u001b[39;00m\n",
      "File \u001b[1;32m<__array_function__ internals>:200\u001b[0m, in \u001b[0;36margmax\u001b[1;34m(*args, **kwargs)\u001b[0m\n",
      "File \u001b[1;32mc:\\Users\\johns\\anaconda3\\Lib\\site-packages\\numpy\\core\\fromnumeric.py:1242\u001b[0m, in \u001b[0;36margmax\u001b[1;34m(a, axis, out, keepdims)\u001b[0m\n\u001b[0;32m   1155\u001b[0m \u001b[38;5;250m\u001b[39m\u001b[38;5;124;03m\"\"\"\u001b[39;00m\n\u001b[0;32m   1156\u001b[0m \u001b[38;5;124;03mReturns the indices of the maximum values along an axis.\u001b[39;00m\n\u001b[0;32m   1157\u001b[0m \n\u001b[1;32m   (...)\u001b[0m\n\u001b[0;32m   1239\u001b[0m \u001b[38;5;124;03m(2, 1, 4)\u001b[39;00m\n\u001b[0;32m   1240\u001b[0m \u001b[38;5;124;03m\"\"\"\u001b[39;00m\n\u001b[0;32m   1241\u001b[0m kwds \u001b[38;5;241m=\u001b[39m {\u001b[38;5;124m'\u001b[39m\u001b[38;5;124mkeepdims\u001b[39m\u001b[38;5;124m'\u001b[39m: keepdims} \u001b[38;5;28;01mif\u001b[39;00m keepdims \u001b[38;5;129;01mis\u001b[39;00m \u001b[38;5;129;01mnot\u001b[39;00m np\u001b[38;5;241m.\u001b[39m_NoValue \u001b[38;5;28;01melse\u001b[39;00m {}\n\u001b[1;32m-> 1242\u001b[0m \u001b[38;5;28;01mreturn\u001b[39;00m _wrapfunc(a, \u001b[38;5;124m'\u001b[39m\u001b[38;5;124margmax\u001b[39m\u001b[38;5;124m'\u001b[39m, axis\u001b[38;5;241m=\u001b[39maxis, out\u001b[38;5;241m=\u001b[39mout, \u001b[38;5;241m*\u001b[39m\u001b[38;5;241m*\u001b[39mkwds)\n",
      "File \u001b[1;32mc:\\Users\\johns\\anaconda3\\Lib\\site-packages\\numpy\\core\\fromnumeric.py:57\u001b[0m, in \u001b[0;36m_wrapfunc\u001b[1;34m(obj, method, *args, **kwds)\u001b[0m\n\u001b[0;32m     54\u001b[0m     \u001b[38;5;28;01mreturn\u001b[39;00m _wrapit(obj, method, \u001b[38;5;241m*\u001b[39margs, \u001b[38;5;241m*\u001b[39m\u001b[38;5;241m*\u001b[39mkwds)\n\u001b[0;32m     56\u001b[0m \u001b[38;5;28;01mtry\u001b[39;00m:\n\u001b[1;32m---> 57\u001b[0m     \u001b[38;5;28;01mreturn\u001b[39;00m bound(\u001b[38;5;241m*\u001b[39margs, \u001b[38;5;241m*\u001b[39m\u001b[38;5;241m*\u001b[39mkwds)\n\u001b[0;32m     58\u001b[0m \u001b[38;5;28;01mexcept\u001b[39;00m \u001b[38;5;167;01mTypeError\u001b[39;00m:\n\u001b[0;32m     59\u001b[0m     \u001b[38;5;66;03m# A TypeError occurs if the object does have such a method in its\u001b[39;00m\n\u001b[0;32m     60\u001b[0m     \u001b[38;5;66;03m# class, but its signature is not identical to that of NumPy's. This\u001b[39;00m\n\u001b[1;32m   (...)\u001b[0m\n\u001b[0;32m     64\u001b[0m     \u001b[38;5;66;03m# Call _wrapit from within the except clause to ensure a potential\u001b[39;00m\n\u001b[0;32m     65\u001b[0m     \u001b[38;5;66;03m# exception has a traceback chain.\u001b[39;00m\n\u001b[0;32m     66\u001b[0m     \u001b[38;5;28;01mreturn\u001b[39;00m _wrapit(obj, method, \u001b[38;5;241m*\u001b[39margs, \u001b[38;5;241m*\u001b[39m\u001b[38;5;241m*\u001b[39mkwds)\n",
      "\u001b[1;31mRecursionError\u001b[0m: maximum recursion depth exceeded while calling a Python object"
     ]
    }
   ],
   "source": [
    "from recursive import match\n",
    "import numpy as np\n",
    "\n",
    "matrix = np.array([\n",
    "    [8, 4, 7],\n",
    "    [5, 2, 3],\n",
    "    [9, 4, 8]\n",
    "])\n",
    "\n",
    "matrix = -1 * (matrix - np.max(matrix))\n",
    "\n",
    "print(f\"{matrix=}\")\n",
    "\n",
    "matches = match(matrix, axis=1, limit=False)\n",
    "print(f\"Match: {matches}\")"
   ]
  },
  {
   "cell_type": "markdown",
   "metadata": {},
   "source": [
    "## Computer Vision"
   ]
  },
  {
   "cell_type": "markdown",
   "metadata": {},
   "source": [
    "This section will show an application of the matching algorithm when it comes\n",
    "to matching ground truth and prediction bounding boxes. \n",
    "\n",
    "Consider the following figure which shows a set of ground truth bounding boxes\n",
    "and a set of prediction bounding boxes. \n",
    "\n",
    "[TODO: Show the figure]\n",
    "\n",
    "Visually, it is clear which ground truth bounding box closely correlates \n",
    "to the prediction bounding box. \n",
    "\n",
    "[TODO: List the matches]\n",
    "\n",
    "However, the IoU (intersection over union) is a metric that best describes\n",
    "how well a bounding box intersects with another which is the metric used to\n",
    "measure the best matches between a set of bounding boxes.\n",
    "\n",
    "In this example, given a set of ground truth and prediction bounding boxes,\n",
    "an IoU 2D matrix is generated which is taken as an input to the matching\n",
    "algorithm to find the best matches for the ground truth and prediction bounding\n",
    "boxes."
   ]
  },
  {
   "cell_type": "code",
   "execution_count": 2,
   "metadata": {},
   "outputs": [],
   "source": [
    "\"\"\"\n",
    "Iou Methods\n",
    "\"\"\"\n",
    "\n",
    "def iou_tch(box1, box2, eps: float=1e-7):\n",
    "    \"\"\"\n",
    "    PyTorch Batch IoU. \n",
    "    Source: https://github.com/ultralytics/yolov5\n",
    "    Code: https://github.com/ultralytics/yolov5/blob/master/utils/metrics.py#L275\n",
    "\n",
    "    Parameters\n",
    "    ----------\n",
    "    box1 : torch.Tensor\n",
    "        The first set of bounding boxes with the shape (n, 4) \n",
    "        in the format [xmin, ymin, xmax, ymax].\n",
    "    box2 : torch.Tensor\n",
    "        The second bounding boxes with the shape (n, 4)\n",
    "        in the format [xmin, ymin, xmax, ymax].\n",
    "    eps : float\n",
    "        This is used to prevent division by 0.\n",
    "\n",
    "    Returns\n",
    "    -------\n",
    "    torch.Tensor\n",
    "        An IoU 2D matrix which calculates\n",
    "        the IoU between box1 (row) and\n",
    "        box2 (column).\n",
    "    \"\"\"\n",
    "    import torch\n",
    "\n",
    "    (a1, a2), (b1, b2) = box1.unsqueeze(1).chunk(2, 2), box2.unsqueeze(0).chunk(2, 2)\n",
    "    inter = (torch.min(a2, b2) - torch.max(a1, b1)).clamp(0).prod(2)\n",
    "    return inter / ((a2 - a1).prod(2) + (b2 - b1).prod(2) - inter + eps)\n",
    "\n",
    "def iou_npy(box1, box2, eps: float=1e-7): \n",
    "    \"\"\"\n",
    "    NumPy implementation of the batch IoU above. \n",
    "    NumPy is a lighter library for demonstration purposes. \n",
    "\n",
    "    Parameters\n",
    "    ----------\n",
    "    box1 : np.ndarray\n",
    "        The first set of bounding boxes with the shape (n, 4) \n",
    "        in the format [xmin, ymin, xmax, ymax].\n",
    "    box2 : np.ndarray\n",
    "        The second bounding boxes with the shape (n, 4)\n",
    "        in the format [xmin, ymin, xmax, ymax].\n",
    "    eps : float\n",
    "        This is used to prevent division by 0.\n",
    "\n",
    "    Returns\n",
    "    -------\n",
    "    np.ndarray\n",
    "        An IoU 2D matrix which calculates\n",
    "        the IoU between box1 (row) and\n",
    "        box2 (column).\n",
    "    \"\"\"\n",
    "    import numpy as np\n",
    "\n",
    "    a1, a2 = np.expand_dims(box1[:, [0,1]], 1), np.expand_dims(box1[:, [2,3]], 1)\n",
    "    b1, b2 = np.expand_dims(box2[:, [0,1]], 0), np.expand_dims(box2[:, [2,3]], 0)\n",
    "\n",
    "    inter = np.minimum(a2,b2) - np.maximum(a1,b1)\n",
    "    inter = np.prod(np.clip(inter, a_min=0., a_max=np.max(inter)), axis=2)\n",
    "    \n",
    "    return inter / ((a2 - a1).prod(2) + (b2 - b1).prod(2) - inter + eps)"
   ]
  },
  {
   "cell_type": "code",
   "execution_count": 3,
   "metadata": {},
   "outputs": [
    {
     "name": "stdout",
     "output_type": "stream",
     "text": [
      "IoU matrix: [[0.         0.         0.         0.         0.        ]\n",
      " [0.20689655 0.07407407 0.04761905 0.         0.23076923]\n",
      " [0.         0.         0.38461538 0.         0.        ]\n",
      " [0.         0.         0.04347826 0.5        0.        ]\n",
      " [0.5        0.         0.         0.         1.        ]]\n"
     ]
    }
   ],
   "source": [
    "import numpy as np\n",
    "\n",
    "ground_truth = np.array([[10,110,60,140], \n",
    "                         [20, 60, 50, 90], \n",
    "                         [60,40,100,100], \n",
    "                         [100,10,160,70], \n",
    "                         [20, 100, 50, 140]])\n",
    "predictions = np.array([[120,100,160,140], \n",
    "                        [30,80,70,130], \n",
    "                        [70,30,90,90], \n",
    "                        [90,20,150,60], \n",
    "                        [20, 100, 50, 140]])\n",
    "\n",
    "matrix = iou_npy(predictions, ground_truth)\n",
    "print(f\"IoU matrix: {matrix}\")"
   ]
  },
  {
   "cell_type": "markdown",
   "metadata": {},
   "source": [
    "The IoU matrix above is represented as the IoU values between each ground\n",
    "truth against each prediction. The columns in the matrix are the ground truths\n",
    "and the rows are the predictions.\n",
    "Ex. ground truth at index 0 and prediction at index 1 has an IoU of 0.20689655"
   ]
  },
  {
   "cell_type": "code",
   "execution_count": 4,
   "metadata": {},
   "outputs": [
    {
     "name": "stdout",
     "output_type": "stream",
     "text": [
      "Matches [ 1 -1  2  3  4]\n"
     ]
    }
   ],
   "source": [
    "from recursive import match\n",
    "matches = match(matrix, axis=1)\n",
    "print(f\"Matches {matches}\")"
   ]
  },
  {
   "cell_type": "markdown",
   "metadata": {},
   "source": [
    "In this example, the matches array returned is array([ 1, -1,  2,  3,  4]).\n",
    "When specifying the axis to 1, we are specifying to iterate over each ground\n",
    "truth (columns => axis = 1) and then find the best match of each ground truth\n",
    "to the predictions.\n",
    "\n",
    "The matches tells us that ground truth at index 0 is best matched to prediction\n",
    "at index 1. Similarly, ground truth at index 2 is best matched to prediction\n",
    "at index 2. The value of -1 indicates the ground truth did not match to\n",
    "any prediction because the IoU was 0 for all predictions. \n",
    "The following matches can then be summarized.\n",
    "\n",
    "GT: 0, 1,    2, 3, 4\n",
    "DT: 1, null, 2, 3, 4"
   ]
  },
  {
   "cell_type": "code",
   "execution_count": 5,
   "metadata": {},
   "outputs": [
    {
     "name": "stdout",
     "output_type": "stream",
     "text": [
      "Matches: [-1  0  2  3  4]\n"
     ]
    }
   ],
   "source": [
    "from recursive import match\n",
    "matches = match(matrix, axis=0)\n",
    "print(f\"Matches: {matches}\")"
   ]
  },
  {
   "cell_type": "markdown",
   "metadata": {},
   "source": [
    "Similarly, when setting the axis to 0, we are specifying to iterate over each detection (rows => axis = 0).\n",
    "\n",
    "The matches tells us that detection at index 1 is best matched to ground truth 0. These results reflect\n",
    "the results given when axis is set to 1. However this time, the values returned are the indices\n",
    "of the best matched ground truths. The following matches can then be summarized.\n",
    "\n",
    "DT: 0,   1, 2, 3, 4\n",
    "GT: null 0, 2, 3, 4"
   ]
  },
  {
   "cell_type": "markdown",
   "metadata": {},
   "source": [
    "# Benchmarks"
   ]
  },
  {
   "cell_type": "code",
   "execution_count": null,
   "metadata": {},
   "outputs": [],
   "source": []
  }
 ],
 "metadata": {
  "kernelspec": {
   "display_name": "base",
   "language": "python",
   "name": "python3"
  },
  "language_info": {
   "codemirror_mode": {
    "name": "ipython",
    "version": 3
   },
   "file_extension": ".py",
   "mimetype": "text/x-python",
   "name": "python",
   "nbconvert_exporter": "python",
   "pygments_lexer": "ipython3",
   "version": "3.11.5"
  }
 },
 "nbformat": 4,
 "nbformat_minor": 2
}
